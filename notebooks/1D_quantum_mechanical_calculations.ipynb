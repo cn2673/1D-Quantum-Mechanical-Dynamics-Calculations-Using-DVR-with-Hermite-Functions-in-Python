{
  "cells": [
    {
      "cell_type": "code",
      "source": [
        "# from google.colab import drive\n",
        "# drive.mount('/content/drive')"
      ],
      "metadata": {
        "id": "A61DNYF7Tq6Y"
      },
      "execution_count": 1,
      "outputs": []
    },
    {
      "cell_type": "markdown",
      "source": [
        "# Imports and constants"
      ],
      "metadata": {
        "id": "dMuVVikqCXlW"
      }
    },
    {
      "cell_type": "code",
      "source": [
        "# imports\n",
        "import scipy.io\n",
        "import mpmath as mp\n",
        "import numpy as np\n",
        "import scipy.linalg as la\n",
        "from scipy.integrate import quad\n",
        "from scipy.special import factorial\n",
        "import matplotlib.pyplot as plt\n",
        "\n",
        "mp.mp.dps = 50\n",
        "\n",
        "# physical constants\n",
        "bohr  = mp.mpf('0.52917706')\n",
        "redmass = mp.mpf('1')\n",
        "overmass = mp.mpf('1') / redmass\n",
        "cfm  = mp.mpf('1822.888515')\n",
        "auh2mass = mp.mpf('1')/2 * (overmass / cfm)\n",
        "alpha = mp.mpf('1.0')\n",
        "ecm = mp.mpf('219474.624')\n"
      ],
      "metadata": {
        "id": "ZvpJ9W5wr8Fh"
      },
      "execution_count": 2,
      "outputs": []
    },
    {
      "cell_type": "markdown",
      "source": [
        "# Functions"
      ],
      "metadata": {
        "id": "aO1YfBnNCapI"
      }
    },
    {
      "cell_type": "code",
      "source": [
        "#functions\n",
        "def hermite_polynomial(n):\n",
        "  #returns function computing n-th Hermite polynomial\n",
        "    def H(x):\n",
        "        return mp.hermite(n, x)\n",
        "    return H\n",
        "\n",
        "def phi_n(x, n, alpha):\n",
        "    Hn = hermite_polynomial(n)\n",
        "    norm = (alpha/mp.pi)**0.25 / mp.sqrt(2**n * mp.fac(n))\n",
        "    return norm * mp.exp(-alpha**2 * x**2/2) * Hn(alpha*x)\n",
        "\n",
        "def integrate_phi_product(i, j, alpha, operator='x'):\n",
        "    def integrand(x):\n",
        "        phi_i= phi_n(x, i, alpha)\n",
        "        phi_j = phi_n(x,j, alpha)\n",
        "        return phi_i * x *phi_j if operator=='x' else phi_i* phi_j\n",
        "    val, err = quad(integrand, -mp.inf, mp.inf)\n",
        "    return val\n",
        "\n",
        "def construct_matrix(n, alpha, operator):\n",
        "  # make nxn matrix for given operators\n",
        "    M = np.zeros((n, n), dtype=object)\n",
        "    for i in range(n):\n",
        "        for j in range(n):\n",
        "            M[i,j] = integrate_phi_product(i, j, alpha, operator)\n",
        "    return M\n",
        "\n",
        "def kinetic_energy_matrix_raw(n, alpha):\n",
        "  #KE in FBr basis before basis change (M_DVR = T transpose * M * T)\n",
        "    K = np.zeros((n, n), dtype=object)\n",
        "    for i in range(n):\n",
        "        for j in range(n):\n",
        "            if i==j:\n",
        "                K[i,j] = alpha**2 *(i+0.5)\n",
        "            elif abs(i-j)==2:\n",
        "                m = max(i,j)\n",
        "                K[i,j] = -0.5* alpha**2 * mp.sqrt(m*(m-1))\n",
        "    return K\n",
        "\n",
        "def transform_matrix(T, M, scale):\n",
        "  # FBR to DVR transformation\n",
        "    n = T.shape[0]\n",
        "    out = np.zeros((n,n), dtype=object)\n",
        "    for j1 in range(n):\n",
        "        for j2 in range(n):\n",
        "            s = mp.mpf('0')\n",
        "            for i1 in range(n):\n",
        "                for i2 in range(n):\n",
        "                    s += T[i1,j1]*M[i1,i2]*T[i2,j2]\n",
        "            out[j1,j2] = s\n",
        "    return out\n",
        "\n",
        "def scale_matrix(M, scale):\n",
        "    return M * (1/scale)**2\n",
        "\n",
        "def finalscale(M, factor):\n",
        "    return M * factor\n",
        "\n",
        "def print_matrix_dynamically(matrix, description):\n",
        "    print(f\"\\n{description}:\")\n",
        "    n = matrix.shape[0]\n",
        "    for i in range(n):\n",
        "        print(\" \".join(f\"{float(matrix[i, j]):14.8f}\" for j in range(n)))\n",
        "\n",
        "# def export_matrix_to_txt(matrix, filepath, label=\"Matrix\"):\n",
        "#     with open(filepath, 'w') as f:\n",
        "#         f.write(f\"{label}\\n\")\n",
        "#         n = matrix.shape[0]\n",
        "#         for i in range(n):\n",
        "#             row = \" \".join(f\"{float(matrix[i, j]):14.8f}\" for j in range(n))\n",
        "#             f.write(row + \"\\n\")\n",
        "#     print(f\"Exported '{label}' to {filepath}\")\n",
        "\n"
      ],
      "metadata": {
        "id": "7B6xdhlrr-p9"
      },
      "execution_count": 3,
      "outputs": []
    },
    {
      "cell_type": "markdown",
      "source": [
        "# Variables to change\n",
        "\n",
        "nzpt -> num of quadrature points to use\n",
        "\n",
        "z_min -> position of the first quadrature point\n",
        "\n",
        "z_max -> the position of the last quadrature point"
      ],
      "metadata": {
        "id": "7FbcZNUuuXoV"
      }
    },
    {
      "cell_type": "code",
      "source": [
        "nzpt = 50\n",
        "\n",
        "z_min = -1 #left edge (Angstroms)\n",
        "z_max =  1 #right edge (Angstroms)"
      ],
      "metadata": {
        "id": "VV7-h9Bru0eD"
      },
      "execution_count": 4,
      "outputs": []
    },
    {
      "cell_type": "markdown",
      "source": [
        "# Building and Diagonalizing Position Operators"
      ],
      "metadata": {
        "id": "_9UHp6qvCeNU"
      }
    },
    {
      "cell_type": "code",
      "source": [
        "#raw matrices\n",
        "K_raw = kinetic_energy_matrix_raw(nzpt, alpha)\n",
        "Q= construct_matrix(nzpt, alpha, 'x')"
      ],
      "metadata": {
        "id": "L3-_keo1sA6n"
      },
      "execution_count": 5,
      "outputs": []
    },
    {
      "cell_type": "markdown",
      "source": [
        "**Printing out Position and Raw Kinetic Energy Matrix**"
      ],
      "metadata": {
        "id": "ZpNGeXb0Cqts"
      }
    },
    {
      "cell_type": "code",
      "source": [
        "# run to visualize\n",
        "print_matrix_dynamically(Q, \"Original Q Matrix (Position)\")\n",
        "print_matrix_dynamically(K_raw, \"Raw Kinetic Energy Matrix in Hermite basis\")"
      ],
      "metadata": {
        "id": "fEGSlZOE9eCS"
      },
      "execution_count": 26,
      "outputs": []
    },
    {
      "cell_type": "code",
      "source": [
        "# export_matrix_to_txt(Q, \"/content/drive/MyDrive/Q_matrix.txt\", \"Position Operator Matrix (Q)\")\n",
        "# export_matrix_to_txt(K_raw, \"/content/drive/MyDrive/K_raw_matrix.txt\", \"Raw Kinetic Energy (FBR)\")\n",
        "\n",
        "# see data folder to visualize calculated matrices"
      ],
      "metadata": {
        "id": "1N9acE1hT64b"
      },
      "execution_count": 27,
      "outputs": []
    },
    {
      "cell_type": "markdown",
      "source": [
        "**Diagonalize**"
      ],
      "metadata": {
        "id": "3hEm3YD8CzVo"
      }
    },
    {
      "cell_type": "code",
      "source": [
        "#Diagonalize Q\n",
        "eigvals_Q, eigvecs_Q = la.eigh(Q.astype(float))"
      ],
      "metadata": {
        "id": "EQnogse19gaK"
      },
      "execution_count": 8,
      "outputs": []
    },
    {
      "cell_type": "code",
      "source": [
        "# Run to visualize Tranformation Matrix\n",
        "print_matrix_dynamically(eigvecs_Q, \"Transformation Matrix T\")"
      ],
      "metadata": {
        "id": "Q8K-xHy7SNqu"
      },
      "execution_count": 28,
      "outputs": []
    },
    {
      "cell_type": "markdown",
      "source": [
        "# Compute and Scale DVR Grid"
      ],
      "metadata": {
        "id": "win6eRtzDrYy"
      }
    },
    {
      "cell_type": "code",
      "source": [
        "z_min_bohr = mp.mpf(z_min) / bohr #[Å/(Å/bohr)] =[Bohr]\n",
        "z_max_bohr = mp.mpf(z_max) / bohr  #[Bohr]\n",
        "z_diff_bohr = z_max_bohr - z_min_bohr  #[Bohr]\n",
        "\n",
        "q_min = eigvals_Q[0]\n",
        "q_max = eigvals_Q[nzpt-1]\n",
        "q_diff = q_max - q_min\n",
        "\n",
        "scalez = z_diff_bohr / q_diff # [Bohr]/[AU]\n",
        "\n",
        "zqpt = [] #[Å]\n",
        "for p in eigvals_Q[:nzpt]:\n",
        "    shifted = p - q_min\n",
        "    z_bohr = z_min_bohr + shifted * scalez\n",
        "    z_ang = z_bohr * bohr\n",
        "    zqpt.append(z_ang)\n",
        "\n",
        "print(\"\\nScaled DVR Grid Points (zqpt) in Ångströms:\")\n",
        "for i, z in enumerate(zqpt):\n",
        "    print(f\"  Point {i:2d}: {float(z):.11f} Å\")"
      ],
      "metadata": {
        "colab": {
          "base_uri": "https://localhost:8080/"
        },
        "id": "8iA0DKON4Uvd",
        "outputId": "c36283ff-c88d-4808-a723-f85587cd775e"
      },
      "execution_count": 10,
      "outputs": [
        {
          "output_type": "stream",
          "name": "stdout",
          "text": [
            "\n",
            "Scaled DVR Grid Points (zqpt) in Ångströms:\n",
            "  Point  0: -1.00000000000 Å\n",
            "  Point  1: -0.92816306986 Å\n",
            "  Point  2: -0.86857644238 Å\n",
            "  Point  3: -0.81529924169 Å\n",
            "  Point  4: -0.76606531837 Å\n",
            "  Point  5: -0.71970758909 Å\n",
            "  Point  6: -0.67552576874 Å\n",
            "  Point  7: -0.63305783570 Å\n",
            "  Point  8: -0.59197834642 Å\n",
            "  Point  9: -0.55204671368 Å\n",
            "  Point 10: -0.51307829065 Å\n",
            "  Point 11: -0.47492701863 Å\n",
            "  Point 12: -0.43747442160 Å\n",
            "  Point 13: -0.40062230734 Å\n",
            "  Point 14: -0.36428774386 Å\n",
            "  Point 15: -0.32839949082 Å\n",
            "  Point 16: -0.29289539383 Å\n",
            "  Point 17: -0.25772043377 Å\n",
            "  Point 18: -0.22282523286 Å\n",
            "  Point 19: -0.18816488481 Å\n",
            "  Point 20: -0.15369801854 Å\n",
            "  Point 21: -0.11938603178 Å\n",
            "  Point 22: -0.08519244825 Å\n",
            "  Point 23: -0.05108236422 Å\n",
            "  Point 24: -0.01702195814 Å\n",
            "  Point 25: 0.01702195814 Å\n",
            "  Point 26: 0.05108236422 Å\n",
            "  Point 27: 0.08519244825 Å\n",
            "  Point 28: 0.11938603178 Å\n",
            "  Point 29: 0.15369801854 Å\n",
            "  Point 30: 0.18816488481 Å\n",
            "  Point 31: 0.22282523286 Å\n",
            "  Point 32: 0.25772043377 Å\n",
            "  Point 33: 0.29289539383 Å\n",
            "  Point 34: 0.32839949082 Å\n",
            "  Point 35: 0.36428774386 Å\n",
            "  Point 36: 0.40062230734 Å\n",
            "  Point 37: 0.43747442160 Å\n",
            "  Point 38: 0.47492701863 Å\n",
            "  Point 39: 0.51307829065 Å\n",
            "  Point 40: 0.55204671368 Å\n",
            "  Point 41: 0.59197834642 Å\n",
            "  Point 42: 0.63305783570 Å\n",
            "  Point 43: 0.67552576874 Å\n",
            "  Point 44: 0.71970758909 Å\n",
            "  Point 45: 0.76606531837 Å\n",
            "  Point 46: 0.81529924169 Å\n",
            "  Point 47: 0.86857644238 Å\n",
            "  Point 48: 0.92816306986 Å\n",
            "  Point 49: 1.00000000000 Å\n"
          ]
        }
      ]
    },
    {
      "cell_type": "markdown",
      "source": [
        "# Transform & Scale Kinetic Energy to DVR"
      ],
      "metadata": {
        "id": "0kMlnIthH-66"
      }
    },
    {
      "cell_type": "markdown",
      "source": [
        "**RAW FBR to DVR Matrix Transformation**"
      ],
      "metadata": {
        "id": "e2No2lkhKdVn"
      }
    },
    {
      "cell_type": "code",
      "source": [
        "T = eigvecs_Q #transformation matrix\n",
        "\n",
        "#Transform + scale kinetic energy to dvr basis\n",
        "D_K = transform_matrix(T, K_raw, scalez) #T tranpose * K * T"
      ],
      "metadata": {
        "id": "366_Y-IG7NFR"
      },
      "execution_count": 11,
      "outputs": []
    },
    {
      "cell_type": "code",
      "source": [
        "# run to visualize\n",
        "print_matrix_dynamically(D_K, \"Transformed Kinetic Energy Matrix (Unscaled)\")"
      ],
      "metadata": {
        "id": "6PI6hS-QTX9U"
      },
      "execution_count": 31,
      "outputs": []
    },
    {
      "cell_type": "markdown",
      "source": [
        "**Scaled Kinetic Energy Matrix to account for coordinate scale**"
      ],
      "metadata": {
        "id": "WSCjJ1ouI7_6"
      }
    },
    {
      "cell_type": "code",
      "source": [
        "D_K_scaled = scale_matrix(D_K, scalez)"
      ],
      "metadata": {
        "id": "s9EGzSpF7OxF"
      },
      "execution_count": 13,
      "outputs": []
    },
    {
      "cell_type": "code",
      "source": [
        "# run to visualize\n",
        "print_matrix_dynamically(D_K_scaled, \"Transformed Kinetic Energy Matrix (Scaled by 1/scale^2)\")"
      ],
      "metadata": {
        "id": "TD2v2C73TfmD"
      },
      "execution_count": 29,
      "outputs": []
    },
    {
      "cell_type": "markdown",
      "source": [
        "**Final Kinetic Energy Matrix with Mass Scaling**"
      ],
      "metadata": {
        "id": "OD3IUYvoJAt6"
      }
    },
    {
      "cell_type": "code",
      "source": [
        "KE_mat = finalscale(D_K_scaled, auh2mass)"
      ],
      "metadata": {
        "id": "nJqbznTy7QAQ"
      },
      "execution_count": 15,
      "outputs": []
    },
    {
      "cell_type": "code",
      "source": [
        "# run to visualize\n",
        "print_matrix_dynamically(KE_mat, \"Final Kinetic Energy Matrix with Mass Scaling\")"
      ],
      "metadata": {
        "id": "dryN9aB_TlgI"
      },
      "execution_count": 30,
      "outputs": []
    },
    {
      "cell_type": "code",
      "source": [
        "# export_matrix_to_txt(KE_mat, \"/content/drive/MyDrive/KE_matrix.txt\", \"Final Kinetic Energy (DVR + Mass)\")\n",
        "# see data folder to see matrix visualized"
      ],
      "metadata": {
        "id": "SGd4CBaaUT15"
      },
      "execution_count": 17,
      "outputs": []
    },
    {
      "cell_type": "markdown",
      "source": [
        "# Define potential for your problem\n",
        "\n",
        "Example used in paper from Ng, *et al*. :\n",
        "\n",
        "\"Arginine: II. Interactions of Its Salt Bridges with Branched Aliphatic Side Chains\"\n"
      ],
      "metadata": {
        "id": "4DonheDIIIUd"
      }
    },
    {
      "cell_type": "code",
      "source": [
        "#fitted quartic coefficients(cm⁻¹)\n",
        "a0 = mp.mpf('2716')\n",
        "a1 = mp.mpf('2488')\n",
        "a2 = mp.mpf('-4.635e4')\n",
        "a3 = mp.mpf('-2.056e4')\n",
        "a4 = mp.mpf('2.062e5')\n",
        "\n",
        "def potential(x):\n",
        "    \"\"\"\n",
        "      V(x) = a0 + a1*x + a2*x^2 + a3*x^3 + a4*x^4\n",
        "\n",
        "      x -> Angstroms\n",
        "      returns quartic potential in cm⁻¹\n",
        "\n",
        "    \"\"\"\n",
        "    x = mp.mpf(x)\n",
        "    return a0 + a1*x + a2*x**2 + a3*x**3 + a4*x**4"
      ],
      "metadata": {
        "id": "8BGv8iPNjp_Y"
      },
      "execution_count": 18,
      "outputs": []
    },
    {
      "cell_type": "markdown",
      "source": [
        "**formation of quadrature points**"
      ],
      "metadata": {
        "id": "wNJ6cJxwkO-L"
      }
    },
    {
      "cell_type": "code",
      "source": [
        "#compute potential at each DVR grid point and then normalize to atomic units\n",
        "\n",
        "potentials = [potential(z) / ecm for z in zqpt] # cm^-1 -> Hartrees\n",
        "\n",
        "# print out as cm^-1\n",
        "print(\"\\nQuartic Potential Energies at DVR Points:\")\n",
        "print(\"  x (Å)       V (cm⁻¹)\")\n",
        "for i, (x, V) in enumerate(zip(zqpt, potentials)):\n",
        "    print(f\"  {float(x):8.4f}    {float(V * ecm):12.6f}\")"
      ],
      "metadata": {
        "colab": {
          "base_uri": "https://localhost:8080/"
        },
        "id": "Gu1nLN8FsCys",
        "outputId": "984f752b-83fa-4653-9049-391ea87b9cd3"
      },
      "execution_count": 19,
      "outputs": [
        {
          "output_type": "stream",
          "name": "stdout",
          "text": [
            "\n",
            "Quartic Potential Energies at DVR Points:\n",
            "  x (Å)       V (cm⁻¹)\n",
            "   -1.0000    180638.000000\n",
            "   -0.9282    129949.850177\n",
            "   -0.8686    96420.053424\n",
            "   -0.8153    72128.441994\n",
            "   -0.7661    53867.701626\n",
            "   -0.7197    39905.598842\n",
            "   -0.6755    29161.549228\n",
            "   -0.6331    20899.667702\n",
            "   -0.5920    14588.364177\n",
            "   -0.5520     9827.110135\n",
            "   -0.5131     6304.546321\n",
            "   -0.4749     3772.813959\n",
            "   -0.4375     2030.967920\n",
            "   -0.4006      913.796181\n",
            "   -0.3643      284.021537\n",
            "   -0.3284       26.708430\n",
            "   -0.2929       45.158748\n",
            "   -0.2577      257.844081\n",
            "   -0.2228      596.079379\n",
            "   -0.1882     1002.240325\n",
            "   -0.1537     1428.389104\n",
            "   -0.1194     1835.214271\n",
            "   -0.0852     2191.218274\n",
            "   -0.0511     2472.105577\n",
            "   -0.0170     2660.338306\n",
            "    0.0170     2744.836764\n",
            "    0.0511     2720.810343\n",
            "    0.0852     2589.711163\n",
            "    0.1194     2359.308878\n",
            "    0.1537     2043.891096\n",
            "    0.1882     1664.600345\n",
            "    0.2228     1249.926024\n",
            "    0.2577      836.379272\n",
            "    0.2929      469.391159\n",
            "    0.3284      204.491831\n",
            "    0.3643      108.852813\n",
            "    0.4006      263.310810\n",
            "    0.4375      765.046123\n",
            "    0.4749     1731.174289\n",
            "    0.5131     3303.647578\n",
            "    0.5520     5656.094025\n",
            "    0.5920     9003.625379\n",
            "    0.6331    13617.386517\n",
            "    0.6755    19847.063624\n",
            "    0.7197    28157.598078\n",
            "    0.7661    39193.320811\n",
            "    0.8153    53900.802933\n",
            "    0.8686    73797.148328\n",
            "    0.9282    101688.832453\n",
            "    1.0000    144494.000000\n"
          ]
        }
      ]
    },
    {
      "cell_type": "markdown",
      "source": [
        "# Build Total Hamiltonian + Solve for Energy Levels"
      ],
      "metadata": {
        "id": "9KI_BVvvIjaG"
      }
    },
    {
      "cell_type": "code",
      "source": [
        "H_tot = KE_mat + np.diag(potentials)\n",
        "e_vals, e_vecs = la.eigh(H_tot.astype(float))\n",
        "first_levels = e_vals[:3] * float(ecm)\n",
        "\n",
        "\n",
        "print(\"\\nVibrational Energy Levels (relative to ground state):\")\n",
        "print(\" Level    Energy (cm⁻¹)     ΔE from Ground (cm⁻¹)\")\n",
        "for i, E in enumerate(e_vals):\n",
        "    E_cm = float(E) *float(ecm)\n",
        "    delta_E = E_cm - float(e_vals[0]) * float(ecm)\n",
        "    print(f\"  {i:3d}    {E_cm:14.6f}    {delta_E:18.6f}\")"
      ],
      "metadata": {
        "colab": {
          "base_uri": "https://localhost:8080/"
        },
        "id": "9nMBWWp6Igcd",
        "outputId": "51df7b6a-c1db-4904-c76d-ae7a943dff92"
      },
      "execution_count": 20,
      "outputs": [
        {
          "output_type": "stream",
          "name": "stdout",
          "text": [
            "\n",
            "Vibrational Energy Levels (relative to ground state):\n",
            " Level    Energy (cm⁻¹)     ΔE from Ground (cm⁻¹)\n",
            "    0       1178.769149              0.000000\n",
            "    1       1279.906593            101.137444\n",
            "    2       2863.042519           1684.273370\n",
            "    3       3533.197242           2354.428093\n",
            "    4       4804.285883           3625.516734\n",
            "    5       6172.693412           4993.924263\n",
            "    6       7718.475195           6539.706046\n",
            "    7       9398.721691           8219.952542\n",
            "    8      11200.065274          10021.296125\n",
            "    9      13110.443609          11931.674460\n",
            "   10      15120.634403          13941.865254\n",
            "   11      17223.120370          16044.351222\n",
            "   12      19411.644244          18232.875096\n",
            "   13      21680.896470          20502.127321\n",
            "   14      24026.303760          22847.534611\n",
            "   15      26443.878130          25265.108981\n",
            "   16      28930.105793          27751.336644\n",
            "   17      31481.863273          30303.094125\n",
            "   18      34096.352705          32917.583556\n",
            "   19      36771.051029          35592.281880\n",
            "   20      39503.669486          38324.900337\n",
            "   21      42292.120901          41113.351752\n",
            "   22      45134.492823          43955.723674\n",
            "   23      48029.025148          46850.255999\n",
            "   24      50974.090927          49795.321778\n",
            "   25      53968.186154          52789.417005\n",
            "   26      57009.902797          55831.133648\n",
            "   27      60097.984983          58919.215834\n",
            "   28      63231.128554          62052.359406\n",
            "   29      66407.788005          65229.018856\n",
            "   30      69625.183877          68446.414728\n",
            "   31      72887.847916          71709.078767\n",
            "   32      76183.204787          75004.435638\n",
            "   33      79539.268935          78360.499787\n",
            "   34      82803.012046          81624.242897\n",
            "   35      85001.610479          83822.841331\n",
            "   36      86771.143287          85592.374139\n",
            "   37      91153.857867          89975.088718\n",
            "   38      93383.795347          92205.026198\n",
            "   39      97176.437861          95997.668712\n",
            "   40     100732.628692          99553.859543\n",
            "   41     106437.193856         105258.424708\n",
            "   42     106745.809897         105567.040748\n",
            "   43     116408.685554         115229.916406\n",
            "   44     119021.906393         117843.137244\n",
            "   45     121437.518204         120258.749056\n",
            "   46     126186.528060         125007.758912\n",
            "   47     145544.048265         144365.279116\n",
            "   48     153261.819385         152083.050236\n",
            "   49     188945.008277         187766.239128\n"
          ]
        }
      ]
    },
    {
      "cell_type": "markdown",
      "source": [
        "# Plot Potential Curve with Energy Levels"
      ],
      "metadata": {
        "id": "e3pLoPQqItnC"
      }
    },
    {
      "cell_type": "code",
      "source": [
        "# Plotting:\n",
        "def plot_potential_graph(x_pts, y_pts, levels):\n",
        "    plt.figure(figsize=(10,6))\n",
        "    plt.plot(x_pts, y_pts, label='Potential')\n",
        "    for lvl in levels:\n",
        "        plt.axhline(lvl, linestyle='--', label=f'{lvl:.1f} cm⁻¹')\n",
        "    plt.xlabel('x (Å)')\n",
        "    plt.ylabel('Energy (cm⁻¹)')\n",
        "    plt.ylim(min(y_pts), max(levels)*1.1)\n",
        "    plt.legend()\n",
        "    plt.grid(True)\n",
        "    plt.title('Potential Energy Curve with Vibrational Levels')\n",
        "    plt.show()\n",
        "\n",
        "x_vals = np.linspace(-1, 1, 200)\n",
        "y_vals = [float(potential(x)) for x in x_vals]\n",
        "\n",
        "# Plot potential with energy levels\n",
        "plot_potential_graph(x_vals, y_vals, first_levels)"
      ],
      "metadata": {
        "colab": {
          "base_uri": "https://localhost:8080/",
          "height": 565
        },
        "id": "CK2FFrrqsGZS",
        "outputId": "0ae7220b-c4f1-46f5-bef6-b2f9d18773ee"
      },
      "execution_count": 21,
      "outputs": [
        {
          "output_type": "display_data",
          "data": {
            "text/plain": [
              "<Figure size 1000x600 with 1 Axes>"
            ],
            "image/png": "[encoded data removed]"
          },
          "metadata": {}
        }
      ]
    },
    {
      "cell_type": "markdown",
      "source": [
        "# Wavefunctions onto Real-Space Grid"
      ],
      "metadata": {
        "id": "a4arai5SIwJq"
      }
    },
    {
      "cell_type": "markdown",
      "source": [
        "**Variables to input :**\n",
        "\n",
        "\n",
        "Define your grid placement:\n",
        "\n",
        "**x_min and x_max** : range of points\n",
        "\n",
        "**nx**: number of points\n",
        "\n",
        "**ntotst**: number of states for plotting\n",
        "\n",
        "In our example, we constructed a 100 point grid from -1 to 1."
      ],
      "metadata": {
        "id": "7Qmr-TW3nGQL"
      }
    },
    {
      "cell_type": "code",
      "source": [
        "# take the eigenvectors of the Hamiltonian in dvr and project onto a realspace grid\n",
        "# 100 point grid from -1 to 1\n",
        "\n",
        "xmin, xmax, nx = -1, 1, 100\n",
        "dx = (xmax-xmin)/nx # [Bohr]\n",
        "\n",
        "x_grid =[xmin+i*dx for i in range(nx+1)] # [Bohr]\n",
        "nalpha= nzpt\n",
        "\n",
        "reciprical_scalez = 1/scalez #[AU/Bohr]"
      ],
      "metadata": {
        "id": "amK92SXdnFZO"
      },
      "execution_count": 22,
      "outputs": []
    },
    {
      "cell_type": "markdown",
      "source": [
        "**DVR Basis Function Matrix Construction**"
      ],
      "metadata": {
        "id": "Ew5ivk9lbJLD"
      }
    },
    {
      "cell_type": "code",
      "source": [
        "fx = mp.matrix(nalpha, len(x_grid))\n",
        "for ix, xv in enumerate(x_grid):\n",
        "    r = xv*reciprical_scalez/bohr\n",
        "    envelope = mp.sqrt(reciprical_scalez/mp.sqrt(mp.pi))*mp.exp(-r**2/2)\n",
        "    herms = [mp.hermite(i,r)/mp.sqrt((2**i)*factorial(i)) for i in range(nalpha)]\n",
        "    for ia in range(nalpha):\n",
        "        s = mp.mpf('0')\n",
        "        for j in range(nalpha):\n",
        "            s += T[j,ia]*herms[j]# FBR -> DVR\n",
        "        fx[ia,ix] = s*envelope"
      ],
      "metadata": {
        "id": "iZH2FlLZsH3V"
      },
      "execution_count": 23,
      "outputs": []
    },
    {
      "cell_type": "markdown",
      "source": [
        "**Build & Normalize RealSpace Wavefunctions**"
      ],
      "metadata": {
        "id": "-E0X_XYvbSyR"
      }
    },
    {
      "cell_type": "code",
      "source": [
        "ntotst = 3\n",
        "wfun = mp.matrix(ntotst, len(x_grid))\n",
        "for st in range(ntotst):\n",
        "    norm = mp.mpf('0')\n",
        "    for ix in range(len(x_grid)):\n",
        "        amp = mp.mpf('0')\n",
        "        for ia in range(nalpha):\n",
        "            amp += e_vecs[ia,st]*fx[ia,ix]\n",
        "        wfun[st,ix] = amp\n",
        "        norm += amp**2 * dx\n",
        "\n",
        "    inv = 1/mp.sqrt(norm)\n",
        "    for ix in range(len(x_grid)):\n",
        "        wfun[st,ix] *= inv\n",
        "    print(f'Normalization for state {st}: {sum(wfun[st, ix]**2 * dx for ix in range(len(x_grid)))}')"
      ],
      "metadata": {
        "colab": {
          "base_uri": "https://localhost:8080/"
        },
        "id": "SjpEbcMRnaJp",
        "outputId": "cddbb06b-feb6-45f5-e5f3-7f4fec06f893"
      },
      "execution_count": 24,
      "outputs": [
        {
          "output_type": "stream",
          "name": "stdout",
          "text": [
            "Normalization for state 0: 1.0\n",
            "Normalization for state 1: 0.99999999999999999999999999999999999999999999999999\n",
            "Normalization for state 2: 1.0\n"
          ]
        }
      ]
    },
    {
      "cell_type": "code",
      "source": [
        "#Plot wavefunctions\n",
        "plt.figure(figsize=(10,6))\n",
        "for st in range(ntotst):\n",
        "    plt.plot(x_grid, [float(wfun[st,ix]) for ix in range(len(x_grid))], label=f'State {st}')\n",
        "plt.xlabel('x')\n",
        "plt.ylabel('ψ(x)')\n",
        "plt.legend()\n",
        "plt.grid(True)\n",
        "plt.show()"
      ],
      "metadata": {
        "colab": {
          "base_uri": "https://localhost:8080/",
          "height": 542
        },
        "id": "uWzzWMNEnbpN",
        "outputId": "cf6844be-55b4-4d45-b030-f14f26f4f940"
      },
      "execution_count": 25,
      "outputs": [
        {
          "output_type": "display_data",
          "data": {
            "text/plain": [
              "<Figure size 1000x600 with 1 Axes>"
            ],
            "image/png": "[encoded data removed]"
          },
          "metadata": {}
        }
      ]
    }
  ],
  "metadata": {
    "colab": {
      "provenance": [],
      "collapsed_sections": [
        "7FbcZNUuuXoV"
      ]
    },
    "kernelspec": {
      "display_name": "Python 3",
      "name": "python3"
    },
    "language_info": {
      "name": "python"
    }
  },
  "nbformat": 4,
  "nbformat_minor": 0
}